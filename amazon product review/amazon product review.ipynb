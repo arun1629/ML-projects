{
 "cells": [
  {
   "cell_type": "code",
   "execution_count": null,
   "id": "ddfeb16f",
   "metadata": {},
   "outputs": [],
   "source": []
  },
  {
   "cell_type": "code",
   "execution_count": 9,
   "id": "a9bbba07",
   "metadata": {},
   "outputs": [],
   "source": [
    "import numpy as np\n",
    "import pandas as pd\n"
   ]
  },
  {
   "cell_type": "code",
   "execution_count": 14,
   "id": "55c9ea18",
   "metadata": {},
   "outputs": [
    {
     "name": "stdout",
     "output_type": "stream",
     "text": [
      "          user_id product_id  ratings   timestamp\n",
      "0  A1GI0U4ZRJA8WN  439886341        1  1334707200\n",
      "1  A1QGNMC6O1VW39  511189877        5  1397433600\n",
      "2  A3J3BRHTDRFJ2G  511189877        2  1397433600\n",
      "3  A2TY0BTJOTENPG  511189877        5  1395878400\n",
      "4  A34ATBPOK6HCHY  511189877        5  1395532800\n"
     ]
    }
   ],
   "source": [
    "df = pd.read_csv(\"amazon.csv\")\n",
    "print(data.head())\n"
   ]
  },
  {
   "cell_type": "code",
   "execution_count": 16,
   "id": "ee19542e",
   "metadata": {},
   "outputs": [],
   "source": [
    "counts = df['user_id'].value_counts()\n",
    "data = df[df['user_id'].isin(counts[counts >= 50].index)]\n",
    "data.groupby('product_id')['ratings'].mean().sort_values(ascending=False) \n",
    "final_ratings = data.pivot(index = 'user_id', columns ='product_id', values = 'ratings').fillna(0)\n",
    "num_of_ratings = np.count_nonzero(final_ratings)\n",
    "possible_ratings = final_ratings.shape[0] * final_ratings.shape[1]\n",
    "density = (num_of_ratings/possible_ratings)\n",
    "density *= 100\n",
    "final_ratings_T = final_ratings.transpose()\n",
    "\n",
    "grouped = data.groupby('product_id').agg({'user_id': 'count'}).reset_index()\n",
    "grouped.rename(columns = {'user_id': 'score'},inplace=True)\n",
    "training_data = grouped.sort_values(['score', 'product_id'], ascending = [0,1]) \n",
    "training_data['Rank'] = training_data['score'].rank(ascending=0, method='first') \n",
    "recommendations = training_data.head()"
   ]
  },
  {
   "cell_type": "code",
   "execution_count": null,
   "id": "7d92d612",
   "metadata": {},
   "outputs": [],
   "source": []
  },
  {
   "cell_type": "code",
   "execution_count": 18,
   "id": "1af36455",
   "metadata": {},
   "outputs": [
    {
     "name": "stdout",
     "output_type": "stream",
     "text": [
      "      user_id  product_id  score  Rank\n",
      "146        11  B00004SB92      7   1.0\n",
      "321        11  B00004ZCJE      5   2.0\n",
      "479        11  B00005LEN4      5   3.0\n",
      "1073       11  B00007KDVI      5   4.0\n",
      "1199       11  B00008OE6I      5   5.0\n"
     ]
    },
    {
     "name": "stderr",
     "output_type": "stream",
     "text": [
      "C:\\Users\\Arun\\AppData\\Local\\Temp\\ipykernel_158308\\18724662.py:3: SettingWithCopyWarning: \n",
      "A value is trying to be set on a copy of a slice from a DataFrame.\n",
      "Try using .loc[row_indexer,col_indexer] = value instead\n",
      "\n",
      "See the caveats in the documentation: https://pandas.pydata.org/pandas-docs/stable/user_guide/indexing.html#returning-a-view-versus-a-copy\n",
      "  recommend_products['user_id'] = id\n"
     ]
    }
   ],
   "source": [
    "def recommend(id):     \n",
    "    recommend_products = recommendations \n",
    "    recommend_products['user_id'] = id \n",
    "    column = recommend_products.columns.tolist() \n",
    "    column = column[-1:] + column[:-1] \n",
    "    recommend_products = recommend_products[column] \n",
    "    return recommend_products \n",
    "\n",
    "print(recommend(11))"
   ]
  },
  {
   "cell_type": "code",
   "execution_count": null,
   "id": "82ea7af2",
   "metadata": {},
   "outputs": [],
   "source": []
  }
 ],
 "metadata": {
  "kernelspec": {
   "display_name": "Python 3 (ipykernel)",
   "language": "python",
   "name": "python3"
  },
  "language_info": {
   "codemirror_mode": {
    "name": "ipython",
    "version": 3
   },
   "file_extension": ".py",
   "mimetype": "text/x-python",
   "name": "python",
   "nbconvert_exporter": "python",
   "pygments_lexer": "ipython3",
   "version": "3.9.13"
  }
 },
 "nbformat": 4,
 "nbformat_minor": 5
}
